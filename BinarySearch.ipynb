{
 "cells": [
  {
   "cell_type": "markdown",
   "metadata": {
    "id": "sHh1qEjlTLGv"
   },
   "source": [
    "<img src=\"images/main.png\" alt=\"SRTTU\" style=\"width: 1000px;\"/>"
   ]
  },
  {
   "cell_type": "markdown",
   "metadata": {},
   "source": [
    "<img src=\"images/s02.png\" alt=\"SRTTU\" style=\"width: 1000px;\"/>"
   ]
  },
  {
   "cell_type": "code",
   "execution_count": 7,
   "metadata": {},
   "outputs": [],
   "source": [
    "def bs(lst, key,low,high):\n",
    "  if low > high:\n",
    "    return False\n",
    "  else:\n",
    "    mid = (low + high ) // 2\n",
    "    if lst[mid] == key :\n",
    "      return True\n",
    "    elif key < lst[mid]:\n",
    "      return bs(lst, key, low, mid-1)\n",
    "    else:\n",
    "      return bs(lst,key,mid+1 , high)"
   ]
  },
  {
   "cell_type": "code",
   "execution_count": 8,
   "metadata": {
    "id": "QX9CR3QMUFXs"
   },
   "outputs": [],
   "source": [
    "lst = [12,14,16,29,35,37,89,91,98]"
   ]
  },
  {
   "cell_type": "code",
   "execution_count": 9,
   "metadata": {
    "colab": {
     "base_uri": "https://localhost:8080/"
    },
    "id": "H59KJXGLUT4a",
    "outputId": "991968a3-b024-4fa6-b0c4-43aff57c0167"
   },
   "outputs": [
    {
     "data": {
      "text/plain": [
       "True"
      ]
     },
     "execution_count": 9,
     "metadata": {},
     "output_type": "execute_result"
    }
   ],
   "source": [
    "bs(lst,89,0,8)"
   ]
  },
  {
   "cell_type": "code",
   "execution_count": 10,
   "metadata": {
    "colab": {
     "base_uri": "https://localhost:8080/"
    },
    "id": "asbHvgG3UVet",
    "outputId": "754561cd-f65a-4a0e-e513-87e0569515e3"
   },
   "outputs": [
    {
     "data": {
      "text/plain": [
       "False"
      ]
     },
     "execution_count": 10,
     "metadata": {},
     "output_type": "execute_result"
    }
   ],
   "source": [
    "bs(lst,90,0,8)"
   ]
  },
  {
   "cell_type": "code",
   "execution_count": 11,
   "metadata": {
    "colab": {
     "base_uri": "https://localhost:8080/"
    },
    "id": "fqHnjEiEUdFr",
    "outputId": "81da25b8-41de-40db-ee61-26a2bb1f2c82"
   },
   "outputs": [
    {
     "data": {
      "text/plain": [
       "True"
      ]
     },
     "execution_count": 11,
     "metadata": {},
     "output_type": "execute_result"
    }
   ],
   "source": [
    "bs(lst,12,0,8)"
   ]
  },
  {
   "cell_type": "markdown",
   "metadata": {},
   "source": [
    "<div class=\"alert alert-block alert-info\">\n",
    "<div style=\"direction:rtl;text-align:right;font-family:B Lotus, B Nazanin, Tahoma\"> دانشگاه شهید مدنی آذربایجان<br> ساختمان داده<br>امین گلزاری اسکوئی <br>1402-1403<br>\n",
    "</div>\n",
    "<a href=\"https://github.com/Amin-Golzari-Oskouei/Data-structure-Course-2023\"> Slides, Codes and Projects (click here) </a>\n",
    "</div>"
   ]
  }
 ],
 "metadata": {
  "colab": {
   "name": "BinarySearch.ipynb",
   "provenance": []
  },
  "kernelspec": {
   "display_name": "Python 3",
   "language": "python",
   "name": "python3"
  },
  "language_info": {
   "codemirror_mode": {
    "name": "ipython",
    "version": 3
   },
   "file_extension": ".py",
   "mimetype": "text/x-python",
   "name": "python",
   "nbconvert_exporter": "python",
   "pygments_lexer": "ipython3",
   "version": "3.8.8"
  }
 },
 "nbformat": 4,
 "nbformat_minor": 1
}
