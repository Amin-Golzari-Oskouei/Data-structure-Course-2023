{
 "cells": [
  {
   "cell_type": "markdown",
   "metadata": {
    "id": "xUIoWhSVn_q_"
   },
   "source": [
    "<img src=\"images/main.png\" alt=\"SRTTU\" style=\"width: 1000px;\"/>"
   ]
  },
  {
   "cell_type": "markdown",
   "metadata": {},
   "source": [
    "<img src=\"images/s05.png\" alt=\"SRTTU\" style=\"width: 1000px;\"/>"
   ]
  },
  {
   "cell_type": "code",
   "execution_count": 1,
   "metadata": {},
   "outputs": [],
   "source": [
    "class Node:\n",
    "    def __init__(self, data = None):\n",
    "        self.data = data\n",
    "        self.next = self"
   ]
  },
  {
   "cell_type": "code",
   "execution_count": 2,
   "metadata": {
    "id": "h81kKnUmy693"
   },
   "outputs": [],
   "source": [
    "class CLL:\n",
    "    def __init__(self):\n",
    "        self.head = None\n",
    "        self.count = 0\n",
    "     \n",
    "    def display(self):\n",
    "        if(self.head == None):\n",
    "            print(\"Empty\")\n",
    "            return \n",
    "        t = self.head\n",
    "        while(True):\n",
    "            print(t.data, end='->')\n",
    "            t = t.next\n",
    "            if (t == self.head):\n",
    "                break\n",
    "          \n",
    "    def insert(self, d, i):\n",
    "        if (i > self.count) | (i < 0):\n",
    "            print('Index out of range')\n",
    "        if self.head == None:\n",
    "            self.head = Node(d)\n",
    "            self.count += 1\n",
    "            return\n",
    "        t = self.head\n",
    "        for _ in range(self.count-1 if i-1 == -1 else i-1):\n",
    "            t = t.next\n",
    "        a = t.next\n",
    "        t.next = Node(d)\n",
    "        t.next.next = a\n",
    "        if(i == 0):\n",
    "            self.head = t.next\n",
    "        self.count += 1\n",
    "        return   \n",
    "     \n",
    "    def remove(self, i):\n",
    "        if (i >= self.count) | (i < 0):\n",
    "            print('Index out of range')\n",
    "        if self.count == 1:\n",
    "            self.head = None\n",
    "            self.count = 0\n",
    "            return\n",
    "        t = self.head\n",
    "        for _ in range(self.count-1 if i-1 == -1 else i-1):\n",
    "            t = t.next\n",
    "        a = t.next.next\n",
    "        t.next = a\n",
    "        if(i == 0):\n",
    "            self.head = a\n",
    "        self.count -= 1\n",
    "        return\n",
    "      \n",
    "    def size(self):\n",
    "        return self.count\n",
    "    \n",
    "    def index(self, d):\n",
    "      t = self.head\n",
    "      for i in range(self.count):\n",
    "        if (t.data == d):\n",
    "          return i\n",
    "        t = t.next\n",
    "      return None"
   ]
  },
  {
   "cell_type": "code",
   "execution_count": 3,
   "metadata": {
    "id": "_PrDyz6W2VAW"
   },
   "outputs": [],
   "source": [
    "x  = CLL()"
   ]
  },
  {
   "cell_type": "code",
   "execution_count": 4,
   "metadata": {
    "colab": {
     "base_uri": "https://localhost:8080/"
    },
    "id": "g9wF8H2D2VNP",
    "outputId": "96e95420-7054-411c-cbb5-faaf7cdb9526"
   },
   "outputs": [
    {
     "name": "stdout",
     "output_type": "stream",
     "text": [
      "Empty\n"
     ]
    }
   ],
   "source": [
    "x.display()"
   ]
  },
  {
   "cell_type": "code",
   "execution_count": 5,
   "metadata": {
    "colab": {
     "base_uri": "https://localhost:8080/"
    },
    "id": "Vu59pwNv2VQU",
    "outputId": "954073ab-e876-4483-9292-05113751a01e"
   },
   "outputs": [
    {
     "name": "stdout",
     "output_type": "stream",
     "text": [
      "11->12->13->"
     ]
    }
   ],
   "source": [
    "x.insert(11,0)\n",
    "x.insert(12,1)\n",
    "x.insert(13,2)\n",
    "x.display()"
   ]
  },
  {
   "cell_type": "code",
   "execution_count": 6,
   "metadata": {
    "id": "Ou5MC1if38Tb"
   },
   "outputs": [],
   "source": [
    "x.index(15)"
   ]
  },
  {
   "cell_type": "code",
   "execution_count": 7,
   "metadata": {
    "colab": {
     "base_uri": "https://localhost:8080/"
    },
    "id": "vVR51mu-2qTJ",
    "outputId": "d1497dc0-df56-4e2e-cb49-052575100db2"
   },
   "outputs": [
    {
     "name": "stdout",
     "output_type": "stream",
     "text": [
      "10->11->12->13->"
     ]
    }
   ],
   "source": [
    "x.insert(10,0)\n",
    "x.display()"
   ]
  },
  {
   "cell_type": "code",
   "execution_count": 8,
   "metadata": {
    "colab": {
     "base_uri": "https://localhost:8080/"
    },
    "id": "tmT69nlg3ZXv",
    "outputId": "bdc9db96-8f89-499a-d8a7-870fcb66efe6"
   },
   "outputs": [
    {
     "data": {
      "text/plain": [
       "4"
      ]
     },
     "execution_count": 8,
     "metadata": {},
     "output_type": "execute_result"
    }
   ],
   "source": [
    "x.size()"
   ]
  },
  {
   "cell_type": "code",
   "execution_count": 9,
   "metadata": {
    "colab": {
     "base_uri": "https://localhost:8080/"
    },
    "id": "9QJcbBvp2w44",
    "outputId": "4255fd68-11c3-4a2f-e921-bc9a71bcf5cc"
   },
   "outputs": [
    {
     "name": "stdout",
     "output_type": "stream",
     "text": [
      "10->11->12->13->14->"
     ]
    }
   ],
   "source": [
    "x.insert(14,4)\n",
    "x.display()"
   ]
  },
  {
   "cell_type": "code",
   "execution_count": 10,
   "metadata": {
    "colab": {
     "base_uri": "https://localhost:8080/"
    },
    "id": "6P4W3ZZZ3fyD",
    "outputId": "52c6f59d-d835-4798-cb2d-54bb92c6a1d6"
   },
   "outputs": [
    {
     "data": {
      "text/plain": [
       "5"
      ]
     },
     "execution_count": 10,
     "metadata": {},
     "output_type": "execute_result"
    }
   ],
   "source": [
    "x.size()"
   ]
  },
  {
   "cell_type": "code",
   "execution_count": 11,
   "metadata": {
    "colab": {
     "base_uri": "https://localhost:8080/"
    },
    "id": "1wFjXcgJ23hw",
    "outputId": "e020617e-450f-4a00-90e4-5e8a71af9113"
   },
   "outputs": [
    {
     "name": "stdout",
     "output_type": "stream",
     "text": [
      "10->11->20->12->13->14->"
     ]
    }
   ],
   "source": [
    "x.insert(20,2)\n",
    "x.display()"
   ]
  },
  {
   "cell_type": "code",
   "execution_count": 12,
   "metadata": {
    "colab": {
     "base_uri": "https://localhost:8080/"
    },
    "id": "mf4f707s266W",
    "outputId": "93a52eef-819f-40fc-8ab4-2a41782f3acb"
   },
   "outputs": [
    {
     "name": "stdout",
     "output_type": "stream",
     "text": [
      "10->11->12->13->14->"
     ]
    }
   ],
   "source": [
    "x.remove(2)\n",
    "x.display()"
   ]
  },
  {
   "cell_type": "markdown",
   "metadata": {},
   "source": [
    "<div class=\"alert alert-block alert-info\">\n",
    "<div style=\"direction:rtl;text-align:right;font-family:B Lotus, B Nazanin, Tahoma\"> دانشگاه شهید مدنی آذربایجان<br> ساختمان داده<br>امین گلزاری اسکوئی <br>1402-1403<br>\n",
    "</div>\n",
    "<a href=\"https://github.com/Amin-Golzari-Oskouei/Data-structure-Course-2023\"> Slides, Codes and Projects (click here) </a>\n",
    "</div>"
   ]
  }
 ],
 "metadata": {
  "colab": {
   "name": "CircularLinkList.ipynb",
   "provenance": []
  },
  "kernelspec": {
   "display_name": "Python 3",
   "language": "python",
   "name": "python3"
  },
  "language_info": {
   "codemirror_mode": {
    "name": "ipython",
    "version": 3
   },
   "file_extension": ".py",
   "mimetype": "text/x-python",
   "name": "python",
   "nbconvert_exporter": "python",
   "pygments_lexer": "ipython3",
   "version": "3.8.8"
  }
 },
 "nbformat": 4,
 "nbformat_minor": 1
}
