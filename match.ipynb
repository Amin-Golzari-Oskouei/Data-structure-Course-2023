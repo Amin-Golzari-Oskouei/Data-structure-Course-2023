{
 "cells": [
  {
   "cell_type": "markdown",
   "metadata": {
    "id": "jwN-Yz9f7Y9O"
   },
   "source": [
    "<img src=\"images/main.png\" alt=\"SRTTU\" style=\"width: 1000px;\"/>"
   ]
  },
  {
   "cell_type": "markdown",
   "metadata": {},
   "source": [
    "<img src=\"images/s04.png\" alt=\"SRTTU\" style=\"width: 1000px;\"/>"
   ]
  },
  {
   "cell_type": "code",
   "execution_count": 6,
   "metadata": {},
   "outputs": [],
   "source": [
    "from pygorithm.data_structures.stack import Stack"
   ]
  },
  {
   "cell_type": "code",
   "execution_count": 7,
   "metadata": {
    "id": "UbYqW32s-q18"
   },
   "outputs": [],
   "source": [
    "def is_match(e):\n",
    "  x = '({['\n",
    "  y = ')}]'\n",
    "  s = Stack()\n",
    "\n",
    "  for i in e:\n",
    "    if i in x:\n",
    "      s.push(i)\n",
    "    elif i in y:\n",
    "      if s.is_empty():\n",
    "        return False\n",
    "      if y.index(i) != x.index(s.pop()):\n",
    "        return False\n",
    "\n",
    "  return s.is_empty()        "
   ]
  },
  {
   "cell_type": "code",
   "execution_count": 8,
   "metadata": {
    "colab": {
     "base_uri": "https://localhost:8080/"
    },
    "id": "0J49TEqEAIdB",
    "outputId": "7823bd58-9d7f-4128-d4af-fe7e8f820788"
   },
   "outputs": [
    {
     "data": {
      "text/plain": [
       "True"
      ]
     },
     "execution_count": 8,
     "metadata": {},
     "output_type": "execute_result"
    }
   ],
   "source": [
    "is_match('({}){}')"
   ]
  },
  {
   "cell_type": "code",
   "execution_count": 9,
   "metadata": {
    "colab": {
     "base_uri": "https://localhost:8080/"
    },
    "id": "F4RFoh6PAO5I",
    "outputId": "7be373be-e2f1-4f72-d7be-f80d7494e9b5"
   },
   "outputs": [
    {
     "data": {
      "text/plain": [
       "False"
      ]
     },
     "execution_count": 9,
     "metadata": {},
     "output_type": "execute_result"
    }
   ],
   "source": [
    "is_match('({}){)')"
   ]
  },
  {
   "cell_type": "code",
   "execution_count": 10,
   "metadata": {
    "colab": {
     "base_uri": "https://localhost:8080/"
    },
    "id": "XT7eBGq6ASEz",
    "outputId": "14f0dbe8-e746-4d70-d6da-3a640660a0bb"
   },
   "outputs": [
    {
     "data": {
      "text/plain": [
       "False"
      ]
     },
     "execution_count": 10,
     "metadata": {},
     "output_type": "execute_result"
    }
   ],
   "source": [
    "is_match('){}){}')"
   ]
  },
  {
   "cell_type": "markdown",
   "metadata": {},
   "source": [
    "<div class=\"alert alert-block alert-info\">\n",
    "<div style=\"direction:rtl;text-align:right;font-family:B Lotus, B Nazanin, Tahoma\"> دانشگاه شهید مدنی آذربایجان<br> ساختمان داده<br>امین گلزاری اسکوئی <br>1402-1403<br>\n",
    "</div>\n",
    "<a href=\"https://github.com/Amin-Golzari-Oskouei/Data-structure-Course-2023\"> Slides, Codes and Projects (click here) </a>\n",
    "</div>"
   ]
  }
 ],
 "metadata": {
  "colab": {
   "name": "match.ipynb",
   "provenance": []
  },
  "kernelspec": {
   "display_name": "Python 3",
   "language": "python",
   "name": "python3"
  },
  "language_info": {
   "codemirror_mode": {
    "name": "ipython",
    "version": 3
   },
   "file_extension": ".py",
   "mimetype": "text/x-python",
   "name": "python",
   "nbconvert_exporter": "python",
   "pygments_lexer": "ipython3",
   "version": "3.8.8"
  }
 },
 "nbformat": 4,
 "nbformat_minor": 1
}
