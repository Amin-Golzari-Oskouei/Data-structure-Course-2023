{
 "cells": [
  {
   "cell_type": "markdown",
   "metadata": {
    "id": "jc5gpVOykEai"
   },
   "source": [
    "<img src=\"images/main.png\" alt=\"SRTTU\" style=\"width: 1000px;\"/>"
   ]
  },
  {
   "cell_type": "markdown",
   "metadata": {},
   "source": [
    "<img src=\"images/s05.png\" alt=\"SRTTU\" style=\"width: 1000px;\"/>"
   ]
  },
  {
   "cell_type": "code",
   "execution_count": 1,
   "metadata": {},
   "outputs": [],
   "source": [
    "class Node:\n",
    "  def __init__(self,d):\n",
    "    self.data = d\n",
    "    self.next = None"
   ]
  },
  {
   "cell_type": "code",
   "execution_count": 2,
   "metadata": {
    "id": "cP583zy_kREd"
   },
   "outputs": [],
   "source": [
    "class LinkList:\n",
    "  def __init__(self):\n",
    "    self.head = None\n",
    "  \n",
    "  def display(self):\n",
    "    t = self.head\n",
    "    while t != None:\n",
    "      print(t.data, end='->')\n",
    "      t = t.next\n",
    "    print('Null')\n",
    "\n",
    "  def Instart(self, d):\n",
    "    n = Node(d)\n",
    "    n.next = self.head\n",
    "    self.head = n\n",
    "  \n",
    "  def Inend(self, d):\n",
    "    n = Node(d)\n",
    "    if self.head is None:\n",
    "      self.head = n\n",
    "      return\n",
    "    t = self.head\n",
    "    while(t.next):\n",
    "      t = t.next\n",
    "    t.next = n\n",
    "\n",
    "  def Inafter(self, m, d):\n",
    "    n = Node(d)\n",
    "    n.next = m.next\n",
    "    m.next = n\n",
    "  \n",
    "  def RemoveNode(self, d):\n",
    "    t =  self.head\n",
    "    if (t is not None):\n",
    "      if (t.data == d):\n",
    "        self.head = t.next\n",
    "        t = None\n",
    "        return\n",
    "    while (t is not None):\n",
    "      if t.data == d:\n",
    "        break\n",
    "      p = t\n",
    "      t = t.next\n",
    "    if (t == None):\n",
    "      return\n",
    "    p.next = t.next\n",
    "    t = None"
   ]
  },
  {
   "cell_type": "code",
   "execution_count": 3,
   "metadata": {
    "colab": {
     "base_uri": "https://localhost:8080/"
    },
    "id": "Lntq34R1kRHo",
    "outputId": "9ea61030-7976-4c63-d6a7-58259e92e2a0"
   },
   "outputs": [
    {
     "name": "stdout",
     "output_type": "stream",
     "text": [
      "3->4->5->Null\n"
     ]
    }
   ],
   "source": [
    "x = Node(3)\n",
    "y = Node(4)\n",
    "z = Node(5)\n",
    "s = LinkList() \n",
    "s.head = x\n",
    "x.next = y\n",
    "y.next = z\n",
    "s.display()"
   ]
  },
  {
   "cell_type": "code",
   "execution_count": 4,
   "metadata": {
    "colab": {
     "base_uri": "https://localhost:8080/"
    },
    "id": "2ad8_rMcnzJV",
    "outputId": "a48e5b8a-a459-4e28-880d-f8e64d2a687e"
   },
   "outputs": [
    {
     "name": "stdout",
     "output_type": "stream",
     "text": [
      "1->3->4->5->Null\n"
     ]
    }
   ],
   "source": [
    "s.Instart(1)\n",
    "s.display()"
   ]
  },
  {
   "cell_type": "code",
   "execution_count": 5,
   "metadata": {
    "colab": {
     "base_uri": "https://localhost:8080/"
    },
    "id": "0TT6Xx75kRK0",
    "outputId": "2a7cb61b-390c-44d8-fa8f-6b48ca82b69a"
   },
   "outputs": [
    {
     "name": "stdout",
     "output_type": "stream",
     "text": [
      "1->3->4->5->6->Null\n"
     ]
    }
   ],
   "source": [
    "s.Inend(6)\n",
    "s.display()"
   ]
  },
  {
   "cell_type": "code",
   "execution_count": 6,
   "metadata": {
    "colab": {
     "base_uri": "https://localhost:8080/"
    },
    "id": "ihvuTH_dkRNo",
    "outputId": "68ff55f9-5d18-4a27-ed86-96820f419662"
   },
   "outputs": [
    {
     "name": "stdout",
     "output_type": "stream",
     "text": [
      "1->2->3->4->5->6->Null\n"
     ]
    }
   ],
   "source": [
    "s.Inafter(s.head, 2)\n",
    "s.display()"
   ]
  },
  {
   "cell_type": "code",
   "execution_count": 7,
   "metadata": {
    "colab": {
     "base_uri": "https://localhost:8080/"
    },
    "id": "YlEQLrmTkRQs",
    "outputId": "c2ed960c-2c43-49c5-f65c-9644e6d8162a"
   },
   "outputs": [
    {
     "name": "stdout",
     "output_type": "stream",
     "text": [
      "1->2->3->13->4->5->6->Null\n"
     ]
    }
   ],
   "source": [
    "s.Inafter(s.head.next.next, 13)\n",
    "s.display()"
   ]
  },
  {
   "cell_type": "code",
   "execution_count": 8,
   "metadata": {
    "colab": {
     "base_uri": "https://localhost:8080/"
    },
    "id": "rSEOu0hdqFrD",
    "outputId": "d6927634-d036-4428-d9b3-99e641a2d33a"
   },
   "outputs": [
    {
     "name": "stdout",
     "output_type": "stream",
     "text": [
      "1->2->3->4->5->6->Null\n"
     ]
    }
   ],
   "source": [
    "s.RemoveNode(13)\n",
    "s.display()"
   ]
  },
  {
   "cell_type": "code",
   "execution_count": 9,
   "metadata": {
    "colab": {
     "base_uri": "https://localhost:8080/"
    },
    "id": "qs26VtnPqLYA",
    "outputId": "dd4da34c-924f-491a-beb8-42ad93485094"
   },
   "outputs": [
    {
     "name": "stdout",
     "output_type": "stream",
     "text": [
      "2->3->4->5->6->Null\n"
     ]
    }
   ],
   "source": [
    "s.RemoveNode(1)\n",
    "s.display()"
   ]
  },
  {
   "cell_type": "code",
   "execution_count": 10,
   "metadata": {
    "colab": {
     "base_uri": "https://localhost:8080/"
    },
    "id": "nMC5L13pqON_",
    "outputId": "255436cf-964b-4782-fa21-719250e0fc4d"
   },
   "outputs": [
    {
     "name": "stdout",
     "output_type": "stream",
     "text": [
      "2->3->4->5->Null\n"
     ]
    }
   ],
   "source": [
    "s.RemoveNode(6)\n",
    "s.display()"
   ]
  },
  {
   "cell_type": "markdown",
   "metadata": {},
   "source": [
    "<div class=\"alert alert-block alert-info\">\n",
    "<div style=\"direction:rtl;text-align:right;font-family:B Lotus, B Nazanin, Tahoma\"> دانشگاه شهید مدنی آذربایجان<br> ساختمان داده<br>امین گلزاری اسکوئی <br>1402-1403<br>\n",
    "</div>\n",
    "<a href=\"https://github.com/Amin-Golzari-Oskouei/Data-structure-Course-2023\"> Slides, Codes and Projects (click here) </a>\n",
    "</div>"
   ]
  }
 ],
 "metadata": {
  "colab": {
   "name": "SinglyLinkedList.ipynb",
   "provenance": []
  },
  "kernelspec": {
   "display_name": "Python 3",
   "language": "python",
   "name": "python3"
  },
  "language_info": {
   "codemirror_mode": {
    "name": "ipython",
    "version": 3
   },
   "file_extension": ".py",
   "mimetype": "text/x-python",
   "name": "python",
   "nbconvert_exporter": "python",
   "pygments_lexer": "ipython3",
   "version": "3.8.8"
  }
 },
 "nbformat": 4,
 "nbformat_minor": 1
}
