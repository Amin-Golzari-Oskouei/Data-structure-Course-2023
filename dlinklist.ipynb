{
 "cells": [
  {
   "cell_type": "markdown",
   "metadata": {
    "id": "xUIoWhSVn_q_"
   },
   "source": [
    "<img src=\"images/main.png\" alt=\"SRTTU\" style=\"width: 1000px;\"/>"
   ]
  },
  {
   "cell_type": "markdown",
   "metadata": {},
   "source": [
    "<img src=\"images/s05.png\" alt=\"SRTTU\" style=\"width: 1000px;\"/>"
   ]
  },
  {
   "cell_type": "code",
   "execution_count": 1,
   "metadata": {},
   "outputs": [],
   "source": [
    "class Node:\n",
    "  def __init__(self, data):\n",
    "    self.data = data\n",
    "    self.next = None\n",
    "    self.prev = None"
   ]
  },
  {
   "cell_type": "code",
   "execution_count": 2,
   "metadata": {
    "id": "USlC4LoSpHE5"
   },
   "outputs": [],
   "source": [
    "class dlinklist:\n",
    "  def __init__(self):\n",
    "    self.head = None\n",
    "\n",
    "  def display(self, x):\n",
    "    while (x is not None):\n",
    "      print(x.data, end= ' <-> ')\n",
    "      x = x.next  \n",
    "    print('None')\n",
    "\n",
    "  def instart(self, d):\n",
    "    n = Node(d)    \n",
    "    n.next = self.head\n",
    "    if self.head is not None:\n",
    "      self.head.prev = n\n",
    "    self.head = n\n",
    "  \n",
    "  def inend(self, d):\n",
    "    n = Node(d)\n",
    "    if self.head is None:\n",
    "      self.head = n\n",
    "      return\n",
    "    t = self.head\n",
    "    while(t.next is not None) :\n",
    "      t = t.next\n",
    "    t.next = n\n",
    "    n.prev = t\n",
    "  \n",
    "  def inafter(self, x, d):\n",
    "    n = Node(d)\n",
    "    n.next = x.next\n",
    "    x.next = n\n",
    "    n.prev = x\n",
    "    if n.next is not None:\n",
    "      n.next.prev = n"
   ]
  },
  {
   "cell_type": "code",
   "execution_count": 3,
   "metadata": {
    "id": "SU4yQWV2p5kb"
   },
   "outputs": [],
   "source": [
    "n1 = Node(2)\n",
    "n2 = Node(4)\n",
    "n3 = Node(5)\n",
    "\n",
    "d = dlinklist()"
   ]
  },
  {
   "cell_type": "code",
   "execution_count": 4,
   "metadata": {
    "id": "JYYLVoWcqJUe"
   },
   "outputs": [],
   "source": [
    "d.head = n1\n",
    "n1.next = n2\n",
    "n2.next = n3\n",
    "n2.prev = n1\n",
    "n3.prev = n2\n"
   ]
  },
  {
   "cell_type": "code",
   "execution_count": 5,
   "metadata": {
    "colab": {
     "base_uri": "https://localhost:8080/"
    },
    "id": "TpKBD1CnqjU6",
    "outputId": "91298de4-b6a5-43b8-dff9-b8eb2e259809"
   },
   "outputs": [
    {
     "name": "stdout",
     "output_type": "stream",
     "text": [
      "2 <-> 4 <-> 5 <-> None\n"
     ]
    }
   ],
   "source": [
    "d.display(d.head)"
   ]
  },
  {
   "cell_type": "code",
   "execution_count": 6,
   "metadata": {
    "id": "toibAAykrP5B"
   },
   "outputs": [],
   "source": [
    "d.instart(1)"
   ]
  },
  {
   "cell_type": "code",
   "execution_count": 7,
   "metadata": {
    "colab": {
     "base_uri": "https://localhost:8080/"
    },
    "id": "XZ2unCz9rc33",
    "outputId": "6dc7ea79-8849-48a9-b064-8483d8ec6ce4"
   },
   "outputs": [
    {
     "name": "stdout",
     "output_type": "stream",
     "text": [
      "1 <-> 2 <-> 4 <-> 5 <-> None\n"
     ]
    }
   ],
   "source": [
    "d.display(d.head)"
   ]
  },
  {
   "cell_type": "code",
   "execution_count": 8,
   "metadata": {
    "colab": {
     "base_uri": "https://localhost:8080/"
    },
    "id": "yjyogLdstrLd",
    "outputId": "13ee0a9e-690c-440d-f568-ca7e51c82b8a"
   },
   "outputs": [
    {
     "name": "stdout",
     "output_type": "stream",
     "text": [
      "1 <-> 2 <-> 4 <-> 5 <-> 6 <-> None\n"
     ]
    }
   ],
   "source": [
    "d.inend(6)\n",
    "d.display(d.head)"
   ]
  },
  {
   "cell_type": "code",
   "execution_count": 9,
   "metadata": {
    "colab": {
     "base_uri": "https://localhost:8080/"
    },
    "id": "w9lv8kLCunU_",
    "outputId": "b9765445-a2f2-4eb4-a8b2-824e62f9303b"
   },
   "outputs": [
    {
     "name": "stdout",
     "output_type": "stream",
     "text": [
      "1 <-> 2 <-> 4 <-> 5 <-> 6 <-> 7 <-> None\n"
     ]
    }
   ],
   "source": [
    "d.inend(7)\n",
    "d.display(d.head)"
   ]
  },
  {
   "cell_type": "code",
   "execution_count": 10,
   "metadata": {
    "colab": {
     "base_uri": "https://localhost:8080/"
    },
    "id": "QSXyLrK6vSJ-",
    "outputId": "5126d538-4fcd-42d7-a18c-df0c5a177c34"
   },
   "outputs": [
    {
     "name": "stdout",
     "output_type": "stream",
     "text": [
      "1 <-> 2 <-> 3 <-> 4 <-> 5 <-> 6 <-> 7 <-> None\n"
     ]
    }
   ],
   "source": [
    "d.inafter(d.head.next, 3)\n",
    "d.display(d.head)"
   ]
  },
  {
   "cell_type": "code",
   "execution_count": 11,
   "metadata": {
    "colab": {
     "base_uri": "https://localhost:8080/"
    },
    "id": "Z_9M58RsvjBx",
    "outputId": "17306a9b-e208-4780-b2c5-74a0be6ee67f"
   },
   "outputs": [
    {
     "name": "stdout",
     "output_type": "stream",
     "text": [
      "1 <-> 2 <-> 3 <-> 4 <-> 78 <-> 5 <-> 6 <-> 7 <-> None\n"
     ]
    }
   ],
   "source": [
    "d.inafter(d.head.next.next.next, 78)\n",
    "d.display(d.head)"
   ]
  },
  {
   "cell_type": "markdown",
   "metadata": {},
   "source": [
    "<div class=\"alert alert-block alert-info\">\n",
    "<div style=\"direction:rtl;text-align:right;font-family:B Lotus, B Nazanin, Tahoma\"> دانشگاه شهید مدنی آذربایجان<br> ساختمان داده<br>امین گلزاری اسکوئی <br>1402-1403<br>\n",
    "</div>\n",
    "<a href=\"https://github.com/Amin-Golzari-Oskouei/Data-structure-Course-2023\"> Slides, Codes and Projects (click here) </a>\n",
    "</div>"
   ]
  }
 ],
 "metadata": {
  "colab": {
   "name": "dlinklist.ipynb",
   "provenance": []
  },
  "kernelspec": {
   "display_name": "Python 3",
   "language": "python",
   "name": "python3"
  },
  "language_info": {
   "codemirror_mode": {
    "name": "ipython",
    "version": 3
   },
   "file_extension": ".py",
   "mimetype": "text/x-python",
   "name": "python",
   "nbconvert_exporter": "python",
   "pygments_lexer": "ipython3",
   "version": "3.8.8"
  }
 },
 "nbformat": 4,
 "nbformat_minor": 1
}
