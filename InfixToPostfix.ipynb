{
 "cells": [
  {
   "cell_type": "markdown",
   "metadata": {
    "id": "cJhsxqYEm9-P"
   },
   "source": [
    "<img src=\"images/main.png\" alt=\"SRTTU\" style=\"width: 1000px;\"/>"
   ]
  },
  {
   "cell_type": "markdown",
   "metadata": {},
   "source": [
    "<img src=\"images/s04.png\" alt=\"SRTTU\" style=\"width: 1000px;\"/>"
   ]
  },
  {
   "cell_type": "code",
   "execution_count": 1,
   "metadata": {},
   "outputs": [
    {
     "ename": "SyntaxError",
     "evalue": "invalid syntax (<ipython-input-1-0f65c46defb6>, line 1)",
     "output_type": "error",
     "traceback": [
      "\u001b[1;36m  File \u001b[1;32m\"<ipython-input-1-0f65c46defb6>\"\u001b[1;36m, line \u001b[1;32m1\u001b[0m\n\u001b[1;33m    a*b+c*d   : ab*cd*+\u001b[0m\n\u001b[1;37m                       ^\u001b[0m\n\u001b[1;31mSyntaxError\u001b[0m\u001b[1;31m:\u001b[0m invalid syntax\n"
     ]
    }
   ],
   "source": [
    "a*b+c*d   : ab*cd*+\n",
    "a*(b+c)*d : abc+*d*"
   ]
  },
  {
   "cell_type": "code",
   "execution_count": 2,
   "metadata": {
    "id": "C20C_X1Lhhuo"
   },
   "outputs": [],
   "source": [
    "class myStack:\n",
    "  def __init__(self):\n",
    "    self.lst=[]\n",
    "\n",
    "  def push(self, data):\n",
    "    self.lst.append(data)\n",
    "\n",
    "  def pop(self):\n",
    "    if self.lst:\n",
    "        return self.lst.pop()\n",
    "    else:\n",
    "        return 'None'\n",
    "\n",
    "  def is_empty(self):\n",
    "    return self.lst==[]\n",
    "\n",
    "  def peek(self):\n",
    "    return self.lst[-1]"
   ]
  },
  {
   "cell_type": "code",
   "execution_count": 3,
   "metadata": {
    "id": "A_-wLVyGnMGb"
   },
   "outputs": [],
   "source": [
    "def InfixToPostfix(exp):\n",
    "  s = myStack()\n",
    "  p = {'+' : 1 , '-':1 , '*':2 , '/': 2}\n",
    "  output = ''\n",
    "  for i in exp:\n",
    "    if i.isalpha():\n",
    "      output += i\n",
    "    elif i == '(':\n",
    "      s.push('(')\n",
    "    elif i == ')':\n",
    "      while not s.is_empty() and s.peek() != '(':\n",
    "        output += s.pop()\n",
    "      s.pop()\n",
    "    else:\n",
    "      while not s.is_empty()  and s.peek() != '('  and p[i] <= p[s.peek()]:\n",
    "        output += s.pop()\n",
    "      s.push(i)\n",
    "    \n",
    "  while not s.is_empty():\n",
    "    output += s.pop()\n",
    "  return output"
   ]
  },
  {
   "cell_type": "code",
   "execution_count": 4,
   "metadata": {
    "colab": {
     "base_uri": "https://localhost:8080/",
     "height": 35
    },
    "id": "7QYuUnS4mSb5",
    "outputId": "edbba021-204f-4414-d15e-ce10d7854325"
   },
   "outputs": [
    {
     "data": {
      "text/plain": [
       "'ab*cd*+'"
      ]
     },
     "execution_count": 4,
     "metadata": {},
     "output_type": "execute_result"
    }
   ],
   "source": [
    "InfixToPostfix('a*b+c*d')"
   ]
  },
  {
   "cell_type": "code",
   "execution_count": 5,
   "metadata": {
    "colab": {
     "base_uri": "https://localhost:8080/",
     "height": 35
    },
    "id": "BrSTfSQSpTa8",
    "outputId": "b0785f72-3266-498d-abce-5fb5a8121296"
   },
   "outputs": [
    {
     "data": {
      "text/plain": [
       "'abc+*d*'"
      ]
     },
     "execution_count": 5,
     "metadata": {},
     "output_type": "execute_result"
    }
   ],
   "source": [
    "InfixToPostfix('a*(b+c)*d')"
   ]
  },
  {
   "cell_type": "markdown",
   "metadata": {},
   "source": [
    "<div class=\"alert alert-block alert-info\">\n",
    "<div style=\"direction:rtl;text-align:right;font-family:B Lotus, B Nazanin, Tahoma\"> دانشگاه شهید مدنی آذربایجان<br> ساختمان داده<br>امین گلزاری اسکوئی <br>1402-1403<br>\n",
    "</div>\n",
    "<a href=\"https://github.com/Amin-Golzari-Oskouei/Data-structure-Course-2023\"> Slides, Codes and Projects (click here) </a>\n",
    "</div>"
   ]
  }
 ],
 "metadata": {
  "colab": {
   "collapsed_sections": [],
   "name": "InfixToPostfix.ipynb",
   "provenance": []
  },
  "kernelspec": {
   "display_name": "Python 3",
   "language": "python",
   "name": "python3"
  },
  "language_info": {
   "codemirror_mode": {
    "name": "ipython",
    "version": 3
   },
   "file_extension": ".py",
   "mimetype": "text/x-python",
   "name": "python",
   "nbconvert_exporter": "python",
   "pygments_lexer": "ipython3",
   "version": "3.8.8"
  }
 },
 "nbformat": 4,
 "nbformat_minor": 1
}
