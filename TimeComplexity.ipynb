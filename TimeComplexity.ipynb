{
 "cells": [
  {
   "cell_type": "markdown",
   "id": "84e0f6da",
   "metadata": {},
   "source": [
    "<img src=\"images/main.png\" alt=\"SRTTU\" style=\"width: 1000px;\"/>"
   ]
  },
  {
   "cell_type": "markdown",
   "id": "76203d09",
   "metadata": {},
   "source": [
    "<img src=\"images/S01.png\" alt=\"SRTTU\" style=\"width: 1000px;\"/>"
   ]
  },
  {
   "cell_type": "code",
   "execution_count": null,
   "id": "7af27b48",
   "metadata": {},
   "outputs": [],
   "source": [
    "timeit '[print(x) for x in range(10)]'"
   ]
  },
  {
   "cell_type": "code",
   "execution_count": null,
   "id": "44b405da",
   "metadata": {},
   "outputs": [],
   "source": [
    "#"
   ]
  },
  {
   "cell_type": "code",
   "execution_count": null,
   "id": "eff420e6",
   "metadata": {},
   "outputs": [],
   "source": [
    "def f(lst):        # linear : O(n)\n",
    "    c = 0\n",
    "    for i in lst:\n",
    "        c += 1\n",
    "    return c"
   ]
  },
  {
   "cell_type": "code",
   "execution_count": null,
   "id": "a3ab28c1",
   "metadata": {},
   "outputs": [],
   "source": [
    "x = [3, 8, 7 , 18 , 20]\n",
    "f(x)"
   ]
  },
  {
   "cell_type": "code",
   "execution_count": null,
   "id": "64ff2cc2",
   "metadata": {},
   "outputs": [],
   "source": [
    "timeit f(x)"
   ]
  },
  {
   "cell_type": "code",
   "execution_count": null,
   "id": "257b5aca",
   "metadata": {},
   "outputs": [],
   "source": [
    "#"
   ]
  },
  {
   "cell_type": "code",
   "execution_count": null,
   "id": "738e6650",
   "metadata": {},
   "outputs": [],
   "source": [
    "def g(lst):        # quadratic : O(n^2)\n",
    "    c = 0\n",
    "    for i in lst:\n",
    "        for j in lst:\n",
    "            c += 1\n",
    "    return c"
   ]
  },
  {
   "cell_type": "code",
   "execution_count": null,
   "id": "c74b4703",
   "metadata": {},
   "outputs": [],
   "source": [
    "x = [1, 2, 3, 8, 20]\n",
    "g(x)"
   ]
  },
  {
   "cell_type": "code",
   "execution_count": null,
   "id": "63f7b294",
   "metadata": {},
   "outputs": [],
   "source": [
    "timeit g(x)"
   ]
  },
  {
   "cell_type": "code",
   "execution_count": null,
   "id": "dcdf43ae",
   "metadata": {},
   "outputs": [],
   "source": [
    "#"
   ]
  },
  {
   "cell_type": "code",
   "execution_count": null,
   "id": "7fbfc81a",
   "metadata": {},
   "outputs": [],
   "source": [
    "def h(lst):              # O(3) + O(n) + O(n) + O(2) = O(n)\n",
    "    for i in range(3):\n",
    "        print(\"python\")\n",
    "\n",
    "    for j in lst:\n",
    "        print(j)\n",
    "\n",
    "    for k in lst:\n",
    "        print(k*3)\n",
    "\n",
    "    print(\"java\")\n",
    "    print(\"php\")"
   ]
  },
  {
   "cell_type": "code",
   "execution_count": null,
   "id": "a8c629bc",
   "metadata": {},
   "outputs": [],
   "source": [
    "h([1,2,3])"
   ]
  },
  {
   "cell_type": "code",
   "execution_count": null,
   "id": "267108d8",
   "metadata": {},
   "outputs": [],
   "source": [
    "# 5!  = 1 * 2 * 3 * 4 * 5 = 120"
   ]
  },
  {
   "cell_type": "code",
   "execution_count": null,
   "id": "528c950d",
   "metadata": {},
   "outputs": [],
   "source": [
    "def fact(n):\n",
    "    p = 1\n",
    "    for i in range(n):\n",
    "        p = p * (i+1)\n",
    "    return p"
   ]
  },
  {
   "cell_type": "code",
   "execution_count": null,
   "id": "dcce8dd7",
   "metadata": {},
   "outputs": [],
   "source": [
    "fact(5)"
   ]
  },
  {
   "cell_type": "code",
   "execution_count": null,
   "id": "463d2563",
   "metadata": {},
   "outputs": [],
   "source": [
    "# n! = n * (n-1)\n",
    "\n",
    "def fact2(n):\n",
    "    if n == 0:\n",
    "        return 1\n",
    "    else:\n",
    "        return n * fact2(n-1)"
   ]
  },
  {
   "cell_type": "code",
   "execution_count": null,
   "id": "0de8777b",
   "metadata": {},
   "outputs": [],
   "source": [
    "print(fact2(5))"
   ]
  },
  {
   "cell_type": "code",
   "execution_count": null,
   "id": "3a87e3ba",
   "metadata": {},
   "outputs": [],
   "source": [
    "timeit fact(50)"
   ]
  },
  {
   "cell_type": "code",
   "execution_count": null,
   "id": "538667ba",
   "metadata": {},
   "outputs": [],
   "source": [
    "timeit fact2(50)"
   ]
  },
  {
   "cell_type": "code",
   "execution_count": null,
   "id": "5b1c8d3d",
   "metadata": {},
   "outputs": [],
   "source": [
    "#"
   ]
  },
  {
   "cell_type": "code",
   "execution_count": null,
   "id": "f48dabc6",
   "metadata": {},
   "outputs": [],
   "source": [
    "from timeit import Timer"
   ]
  },
  {
   "cell_type": "code",
   "execution_count": null,
   "id": "4c3e6885",
   "metadata": {},
   "outputs": [],
   "source": [
    "Timer(lambda : fact(50)).timeit()"
   ]
  },
  {
   "cell_type": "code",
   "execution_count": null,
   "id": "01f11b26",
   "metadata": {},
   "outputs": [],
   "source": [
    "Timer(lambda : fact2(50)).timeit()"
   ]
  },
  {
   "cell_type": "markdown",
   "id": "e3c3ccbc",
   "metadata": {},
   "source": [
    "# big-o"
   ]
  },
  {
   "cell_type": "code",
   "execution_count": null,
   "id": "f646c633",
   "metadata": {},
   "outputs": [],
   "source": [
    "#pip install big-o"
   ]
  },
  {
   "cell_type": "code",
   "execution_count": 1,
   "id": "86934c92",
   "metadata": {},
   "outputs": [],
   "source": [
    "import big_o"
   ]
  },
  {
   "cell_type": "code",
   "execution_count": 2,
   "id": "5dc6b12f",
   "metadata": {},
   "outputs": [],
   "source": [
    "d = lambda n: big_o.datagen.integers(n, 0, 5)"
   ]
  },
  {
   "cell_type": "code",
   "execution_count": 3,
   "id": "88839c50",
   "metadata": {},
   "outputs": [],
   "source": [
    "def f(lst):\n",
    "     return lst[0]  "
   ]
  },
  {
   "cell_type": "code",
   "execution_count": 5,
   "id": "15f11a0a",
   "metadata": {},
   "outputs": [
    {
     "data": {
      "text/plain": [
       "19"
      ]
     },
     "execution_count": 5,
     "metadata": {},
     "output_type": "execute_result"
    }
   ],
   "source": [
    "lst = [19, 18, 30, 7]\n",
    "f(lst)"
   ]
  },
  {
   "cell_type": "code",
   "execution_count": 6,
   "id": "8ac6c302",
   "metadata": {},
   "outputs": [
    {
     "name": "stdout",
     "output_type": "stream",
     "text": [
      "Constant: time = 2.3E-05 (sec)\n"
     ]
    }
   ],
   "source": [
    "print(big_o.big_o(f, d, n_repeats=100)[0])"
   ]
  },
  {
   "cell_type": "code",
   "execution_count": null,
   "id": "9d75e08d",
   "metadata": {},
   "outputs": [],
   "source": [
    "#"
   ]
  },
  {
   "cell_type": "code",
   "execution_count": 7,
   "id": "caf3ab0e",
   "metadata": {},
   "outputs": [],
   "source": [
    "def addfirst(lst):\n",
    "     lst.insert(0, 13)    "
   ]
  },
  {
   "cell_type": "code",
   "execution_count": 8,
   "id": "3db2246e",
   "metadata": {},
   "outputs": [
    {
     "data": {
      "text/plain": [
       "[13, 23, 19, 18, 30, 7]"
      ]
     },
     "execution_count": 8,
     "metadata": {},
     "output_type": "execute_result"
    }
   ],
   "source": [
    "lst = [23, 19, 18, 30, 7]\n",
    "addfirst(lst)\n",
    "lst"
   ]
  },
  {
   "cell_type": "code",
   "execution_count": 9,
   "id": "25200b7a",
   "metadata": {},
   "outputs": [
    {
     "name": "stdout",
     "output_type": "stream",
     "text": [
      "Linear: time = -6.4E-06 + 3.6E-08*n (sec)\n"
     ]
    }
   ],
   "source": [
    "print(big_o.big_o(addfirst, d, n_repeats=100)[0])  # a + b * n : O(n)"
   ]
  },
  {
   "cell_type": "code",
   "execution_count": null,
   "id": "8c102479",
   "metadata": {},
   "outputs": [],
   "source": [
    "#"
   ]
  },
  {
   "cell_type": "code",
   "execution_count": 10,
   "id": "7e3c5fae",
   "metadata": {},
   "outputs": [],
   "source": [
    "def addlast(lst):\n",
    "     lst.insert(len(lst), 222)  "
   ]
  },
  {
   "cell_type": "code",
   "execution_count": 11,
   "id": "c8accf9d",
   "metadata": {},
   "outputs": [
    {
     "data": {
      "text/plain": [
       "[23, 19, 18, 30, 7, 222]"
      ]
     },
     "execution_count": 11,
     "metadata": {},
     "output_type": "execute_result"
    }
   ],
   "source": [
    "lst = [23, 19, 18, 30, 7]\n",
    "addlast(lst)\n",
    "lst"
   ]
  },
  {
   "cell_type": "code",
   "execution_count": 12,
   "id": "ffce8637",
   "metadata": {},
   "outputs": [
    {
     "name": "stdout",
     "output_type": "stream",
     "text": [
      "Constant: time = 3.5E-05 (sec)\n"
     ]
    }
   ],
   "source": [
    "print(big_o.big_o(addlast, d, n_repeats=100)[0])"
   ]
  },
  {
   "cell_type": "markdown",
   "id": "5d6e2e92",
   "metadata": {},
   "source": [
    "<div class=\"alert alert-block alert-info\">\n",
    "<div style=\"direction:rtl;text-align:right;font-family:B Lotus, B Nazanin, Tahoma\"> دانشگاه شهید مدنی آذربایجان<br> ساختمان داده<br>امین گلزاری اسکوئی <br>1401-1402<br>\n",
    "</div>\n",
    "<a href=\"https://github.com/Amin-Golzari-Oskouei/Data-structure-Course-2023\"> Slides, Codes and Projects (click here) </a>\n",
    "</div>"
   ]
  }
 ],
 "metadata": {
  "kernelspec": {
   "display_name": "Python 3",
   "language": "python",
   "name": "python3"
  },
  "language_info": {
   "codemirror_mode": {
    "name": "ipython",
    "version": 3
   },
   "file_extension": ".py",
   "mimetype": "text/x-python",
   "name": "python",
   "nbconvert_exporter": "python",
   "pygments_lexer": "ipython3",
   "version": "3.8.8"
  }
 },
 "nbformat": 4,
 "nbformat_minor": 5
}
