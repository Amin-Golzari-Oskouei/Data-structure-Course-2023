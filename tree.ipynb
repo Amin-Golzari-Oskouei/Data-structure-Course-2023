{
 "cells": [
  {
   "cell_type": "markdown",
   "metadata": {
    "id": "mu8xYKNL5L_r"
   },
   "source": [
    "<img src=\"images/main.png\" alt=\"SRTTU\" style=\"width: 1000px;\"/>"
   ]
  },
  {
   "cell_type": "markdown",
   "metadata": {},
   "source": [
    "<img src=\"images/S06.png\" alt=\"SRTTU\" style=\"width: 1000px;\"/>"
   ]
  },
  {
   "cell_type": "code",
   "execution_count": 1,
   "metadata": {},
   "outputs": [],
   "source": [
    "class Node:\n",
    "    def __init__(self, data):\n",
    "        self.left  = None\n",
    "        self.right = None\n",
    "        self.data  = data"
   ]
  },
  {
   "cell_type": "code",
   "execution_count": 2,
   "metadata": {
    "id": "1Q6h3WAg5Us0"
   },
   "outputs": [],
   "source": [
    "def Inorder(r):\n",
    "    if r:\n",
    "        Inorder(r.left)\n",
    "        print(r.data, end=' ')\n",
    "        Inorder(r.right)"
   ]
  },
  {
   "cell_type": "code",
   "execution_count": 3,
   "metadata": {
    "id": "LceJc4eH9WF4"
   },
   "outputs": [],
   "source": [
    "def Postorder(r):\n",
    "    if r:\n",
    "        Postorder(r.left)\n",
    "        Postorder(r.right)\n",
    "        print(r.data, end=' ')\n"
   ]
  },
  {
   "cell_type": "code",
   "execution_count": 4,
   "metadata": {
    "id": "jd48yOEv9dXc"
   },
   "outputs": [],
   "source": [
    "def Preorder(r):\n",
    "    if r:\n",
    "        print(r.data, end=' ')\n",
    "        Preorder(r.left)\n",
    "        Preorder(r.right)\n"
   ]
  },
  {
   "cell_type": "code",
   "execution_count": 5,
   "metadata": {
    "id": "5rCd8WP06QRV"
   },
   "outputs": [],
   "source": [
    "    #            1\n",
    "    #         /     \\\n",
    "    #        2        3\n",
    "    #      /   \\    /   \\\n",
    "    #     4    5   6     7   \n",
    "    #   /  \\\n",
    "    #  8    9 "
   ]
  },
  {
   "cell_type": "code",
   "execution_count": 6,
   "metadata": {
    "id": "22bgg_Kn5r0Q"
   },
   "outputs": [],
   "source": [
    "r = Node(1)\n",
    "\n",
    "r.left  = Node(2)\n",
    "r.right = Node(3)\n",
    "\n",
    "r.left.left  = Node(4)\n",
    "r.left.right = Node(5)\n",
    "\n",
    "r.right.left  = Node(6)\n",
    "r.right.right = Node(7)\n",
    "\n",
    "r.left.left.left   = Node(8)\n",
    "r.left.left.right  = Node(9)"
   ]
  },
  {
   "cell_type": "code",
   "execution_count": 7,
   "metadata": {
    "colab": {
     "base_uri": "https://localhost:8080/"
    },
    "id": "nzsTRB-u9PxH",
    "outputId": "b00b1300-29f0-4313-e9f8-c90442fbaef5"
   },
   "outputs": [
    {
     "name": "stdout",
     "output_type": "stream",
     "text": [
      "8 4 9 2 5 1 6 3 7 "
     ]
    }
   ],
   "source": [
    "Inorder(r)"
   ]
  },
  {
   "cell_type": "code",
   "execution_count": 8,
   "metadata": {
    "colab": {
     "base_uri": "https://localhost:8080/"
    },
    "id": "qYn0l54z9l48",
    "outputId": "e1bbb48d-43a1-4f0e-f52a-abbf4c341c97"
   },
   "outputs": [
    {
     "name": "stdout",
     "output_type": "stream",
     "text": [
      "1 2 4 8 9 5 3 6 7 "
     ]
    }
   ],
   "source": [
    "Preorder(r)"
   ]
  },
  {
   "cell_type": "code",
   "execution_count": 9,
   "metadata": {
    "colab": {
     "base_uri": "https://localhost:8080/"
    },
    "id": "yDtW9L0x9l_V",
    "outputId": "a6c71be5-0ac6-4a04-8258-7dcfcbef98d1"
   },
   "outputs": [
    {
     "name": "stdout",
     "output_type": "stream",
     "text": [
      "8 9 4 5 2 6 7 3 1 "
     ]
    }
   ],
   "source": [
    "Postorder(r)"
   ]
  },
  {
   "cell_type": "code",
   "execution_count": 10,
   "metadata": {
    "id": "yetCBgnf9wsU"
   },
   "outputs": [],
   "source": [
    "def count_node(r):\n",
    "  x = 0\n",
    "  y = 0\n",
    "  if r.left:\n",
    "    x = count_node(r.left)\n",
    "  if r.right:\n",
    "    y = count_node(r.right)\n",
    "  return x + y + 1    \n",
    "\n"
   ]
  },
  {
   "cell_type": "code",
   "execution_count": 11,
   "metadata": {
    "colab": {
     "base_uri": "https://localhost:8080/"
    },
    "id": "LXNl6SpD-Kl3",
    "outputId": "a438aa6b-e592-4f91-985a-507b62153831"
   },
   "outputs": [
    {
     "data": {
      "text/plain": [
       "9"
      ]
     },
     "execution_count": 11,
     "metadata": {},
     "output_type": "execute_result"
    }
   ],
   "source": [
    "count_node(r)"
   ]
  },
  {
   "cell_type": "code",
   "execution_count": 12,
   "metadata": {
    "id": "RQMxlE7J-QJ5"
   },
   "outputs": [],
   "source": [
    "def count_leaf(r):\n",
    "  if r is None:\n",
    "    return 0\n",
    "  if (r.left is None and r.right is None):\n",
    "     return 1\n",
    "  else:\n",
    "    return count_leaf(r.left) + count_leaf(r.right)"
   ]
  },
  {
   "cell_type": "code",
   "execution_count": 13,
   "metadata": {
    "colab": {
     "base_uri": "https://localhost:8080/"
    },
    "id": "UcmijLc6-puM",
    "outputId": "cfa73298-ec4c-4bae-8632-eeb18151dbb4"
   },
   "outputs": [
    {
     "data": {
      "text/plain": [
       "5"
      ]
     },
     "execution_count": 13,
     "metadata": {},
     "output_type": "execute_result"
    }
   ],
   "source": [
    "count_leaf(r)"
   ]
  },
  {
   "cell_type": "markdown",
   "metadata": {},
   "source": [
    "<div class=\"alert alert-block alert-info\">\n",
    "<div style=\"direction:rtl;text-align:right;font-family:B Lotus, B Nazanin, Tahoma\"> دانشگاه شهید مدنی آذربایجان<br> ساختمان داده<br>امین گلزاری اسکوئی <br>1402-1403<br>\n",
    "</div>\n",
    "<a href=\"https://github.com/Amin-Golzari-Oskouei/Data-structure-Course-2023\"> Slides, Codes and Projects (click here) </a>\n",
    "</div>"
   ]
  }
 ],
 "metadata": {
  "colab": {
   "name": "tree.ipynb",
   "provenance": []
  },
  "kernelspec": {
   "display_name": "Python 3",
   "language": "python",
   "name": "python3"
  },
  "language_info": {
   "codemirror_mode": {
    "name": "ipython",
    "version": 3
   },
   "file_extension": ".py",
   "mimetype": "text/x-python",
   "name": "python",
   "nbconvert_exporter": "python",
   "pygments_lexer": "ipython3",
   "version": "3.8.8"
  }
 },
 "nbformat": 4,
 "nbformat_minor": 1
}
