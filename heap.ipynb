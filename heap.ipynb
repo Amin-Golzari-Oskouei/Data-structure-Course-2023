{
 "cells": [
  {
   "cell_type": "markdown",
   "metadata": {
    "id": "n8iezBYpugsn"
   },
   "source": [
    "<img src=\"images/main.png\" alt=\"SRTTU\" style=\"width: 1000px;\"/>"
   ]
  },
  {
   "cell_type": "markdown",
   "metadata": {},
   "source": [
    "<img src=\"images/S06.png\" alt=\"SRTTU\" style=\"width: 1000px;\"/>"
   ]
  },
  {
   "cell_type": "code",
   "execution_count": 1,
   "metadata": {},
   "outputs": [],
   "source": [
    "def min_heapify(A,k):\n",
    "    l = 2 * k + 1\n",
    "    r = 2 * k + 2\n",
    "    if l < len(A) and A[l] < A[k]:\n",
    "        s = l                             \n",
    "    else:\n",
    "        s = k\n",
    "    if r < len(A) and A[r] < A[s]:\n",
    "        s = r\n",
    "    if s != k:\n",
    "        A[k], A[s] = A[s], A[k]\n",
    "        min_heapify(A, s)"
   ]
  },
  {
   "cell_type": "code",
   "execution_count": 2,
   "metadata": {
    "colab": {
     "base_uri": "https://localhost:8080/"
    },
    "id": "21SD-5d6xlaA",
    "outputId": "ed34fa26-410a-4fe3-8570-8c8e8fa868b8"
   },
   "outputs": [
    {
     "name": "stdout",
     "output_type": "stream",
     "text": [
      "[1, 4, 2, 6, 5, 3, 7]\n"
     ]
    }
   ],
   "source": [
    "def build_min_heap(A):\n",
    "    n = int((len(A)//2)-1)\n",
    "    for k in range(n, -1, -1):\n",
    "        min_heapify(A,k)\n",
    "\n",
    "A = [5,6,3,1,4,2,7]\n",
    "build_min_heap(A)\n",
    "print(A)"
   ]
  },
  {
   "cell_type": "code",
   "execution_count": 3,
   "metadata": {
    "id": "jJN7YPE1x9Zt"
   },
   "outputs": [],
   "source": [
    "def heapify(arr, n, i):\n",
    "    largest = i  \n",
    "    l = 2 * i + 1     \n",
    "    r = 2 * i + 2    \n",
    "    if l < n and arr[i] < arr[l]:\n",
    "        largest = l\n",
    "    if r < n and arr[largest] < arr[r]:\n",
    "        largest = r\n",
    "    if largest != i:\n",
    "        arr[i],arr[largest] = arr[largest],arr[i]  \n",
    "        heapify(arr, n, largest)"
   ]
  },
  {
   "cell_type": "code",
   "execution_count": 4,
   "metadata": {
    "id": "o2ydS_9Wx4ol"
   },
   "outputs": [],
   "source": [
    "def heapSort(arr):\n",
    "    n = len(arr)\n",
    "    for i in range(n // 2 - 1, -1, -1):\n",
    "        heapify(arr, n, i)\n",
    "  \n",
    "    for i in range(n-1, 0, -1):\n",
    "        arr[i], arr[0] = arr[0], arr[i]   \n",
    "        heapify(arr, i, 0)     "
   ]
  },
  {
   "cell_type": "code",
   "execution_count": 5,
   "metadata": {
    "colab": {
     "base_uri": "https://localhost:8080/"
    },
    "id": "ptmnV6O0xxj8",
    "outputId": "d307963d-4764-4272-8ce1-9d180db30252"
   },
   "outputs": [
    {
     "name": "stdout",
     "output_type": "stream",
     "text": [
      "5  6  7  11  12  13  "
     ]
    }
   ],
   "source": [
    "arr = [ 12, 11, 13, 5, 6, 7]\n",
    "heapSort(arr)\n",
    "n = len(arr)\n",
    "for i in range(n):\n",
    "    print (arr[i],end='  ')"
   ]
  },
  {
   "cell_type": "markdown",
   "metadata": {},
   "source": [
    "<div class=\"alert alert-block alert-info\">\n",
    "<div style=\"direction:rtl;text-align:right;font-family:B Lotus, B Nazanin, Tahoma\"> دانشگاه شهید مدنی آذربایجان<br> ساختمان داده<br>امین گلزاری اسکوئی <br>1402-1403<br>\n",
    "</div>\n",
    "<a href=\"https://github.com/Amin-Golzari-Oskouei/Data-structure-Course-2023\"> Slides, Codes and Projects (click here) </a>\n",
    "</div>"
   ]
  }
 ],
 "metadata": {
  "colab": {
   "collapsed_sections": [],
   "name": "heap.ipynb",
   "provenance": []
  },
  "kernelspec": {
   "display_name": "Python 3",
   "language": "python",
   "name": "python3"
  },
  "language_info": {
   "codemirror_mode": {
    "name": "ipython",
    "version": 3
   },
   "file_extension": ".py",
   "mimetype": "text/x-python",
   "name": "python",
   "nbconvert_exporter": "python",
   "pygments_lexer": "ipython3",
   "version": "3.8.8"
  }
 },
 "nbformat": 4,
 "nbformat_minor": 1
}
